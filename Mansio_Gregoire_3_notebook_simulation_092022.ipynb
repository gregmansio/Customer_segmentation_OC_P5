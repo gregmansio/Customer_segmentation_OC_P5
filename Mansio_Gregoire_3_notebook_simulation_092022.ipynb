{
 "cells": [
  {
   "cell_type": "markdown",
   "id": "177f598d",
   "metadata": {},
   "source": [
    "# Segmentez les clients d'un site e-commerce - Part 3 : Maintenance"
   ]
  },
  {
   "cell_type": "markdown",
   "id": "a102ed00",
   "metadata": {},
   "source": [
    "This notebook is the third in a series of 3. The first two respectively deal with an EDA and a Clustering. This third one aims at estimating a maintenance schedule of the clustering, i.e. providing the client with an \"updates calendar\" to follow.\n",
    "We use Olist database available freely on Kaggle at this link: https://www.kaggle.com/datasets/olistbr/brazilian-ecommerce"
   ]
  },
  {
   "cell_type": "markdown",
   "id": "b429a140",
   "metadata": {},
   "source": [
    "## Work preparation"
   ]
  },
  {
   "cell_type": "code",
   "execution_count": 1,
   "id": "92a70954",
   "metadata": {},
   "outputs": [],
   "source": [
    "# Packages\n",
    "import numpy as np\n",
    "import pandas as pd\n",
    "import matplotlib.pyplot as plt\n",
    "import seaborn as sns\n",
    "from datetime import datetime\n",
    "import time\n",
    "import warnings\n",
    "import functions\n",
    "\n",
    "from sklearn.metrics import homogeneity_score, adjusted_rand_score, adjusted_mutual_info_score\n",
    "from sklearn.cluster import KMeans\n",
    "\n",
    "from sklearn.pipeline import Pipeline\n",
    "from sklearn.pipeline import make_pipeline\n",
    "from sklearn.compose import make_column_transformer\n",
    "\n",
    "from sklearn.preprocessing import RobustScaler\n",
    "from sklearn.preprocessing import OneHotEncoder"
   ]
  },
  {
   "cell_type": "markdown",
   "id": "211c7e23",
   "metadata": {},
   "source": [
    "## Database slicing"
   ]
  },
  {
   "cell_type": "markdown",
   "id": "a85f9e6b",
   "metadata": {},
   "source": [
    "Our goal is to estimate a maintenance contract schedule. We need to tell Olist when they'll most likely have to rerun a clustering analysis for the insights to be accurate at any given date.\n",
    "First thing is to slice the dateset in several parts, each part representing a different timespan, and then determine the average timespan where the customers are most-likely to switch from a cluster to another one."
   ]
  },
  {
   "cell_type": "markdown",
   "id": "8c54f97b",
   "metadata": {},
   "source": [
    "For this to bring interesting results, we need to have a first period of time where a sufficient number of clients is included. Indeed, if we take a 3-month period of time as starting timespan, we'll only have unique customers for those 3 months, and if they did not order much during the remaining of the full time period at study, we won't be able to detect changes in the clusters, simply because we do not observe those customers enough. \n",
    "\n",
    "The solution is therefore to have a quite important timespan as a starting point (for exampe, half of the total timespan we are covering, i.e. 1 year), and then see whether the clustering changes much over varying periods of time (2 months, 3 months, 4 months etc...)"
   ]
  },
  {
   "cell_type": "markdown",
   "id": "f4ce3779",
   "metadata": {},
   "source": [
    "The main difficulty that we encounter is that we have to compute all features for each slice of time. We make use of a function to do so."
   ]
  },
  {
   "cell_type": "code",
   "execution_count": 2,
   "id": "1f5b6e2c",
   "metadata": {},
   "outputs": [
    {
     "name": "stdout",
     "output_type": "stream",
     "text": [
      "mean_payment_sequential \t 1.0\n",
      "mean_payment_installments \t 1.0\n",
      "mean_review_score \t 5.0\n",
      "mean_delivery_days \t 7.0\n",
      "Feature engineering time to run: 10.27s\n"
     ]
    }
   ],
   "source": [
    "# Initial period of 12 months\n",
    "data_base = functions.split_dataset(dpath=\"./Data/\", nb_months = 0)"
   ]
  },
  {
   "cell_type": "markdown",
   "id": "a06b2f87",
   "metadata": {},
   "source": [
    "Now that we have the dataset for the baseline period, let's perform a quick research of parameters to find the optimal K on this specific time span."
   ]
  },
  {
   "cell_type": "code",
   "execution_count": 3,
   "id": "d29d1694",
   "metadata": {},
   "outputs": [
    {
     "data": {
      "text/html": [
       "<style>#sk-container-id-1 {color: black;background-color: white;}#sk-container-id-1 pre{padding: 0;}#sk-container-id-1 div.sk-toggleable {background-color: white;}#sk-container-id-1 label.sk-toggleable__label {cursor: pointer;display: block;width: 100%;margin-bottom: 0;padding: 0.3em;box-sizing: border-box;text-align: center;}#sk-container-id-1 label.sk-toggleable__label-arrow:before {content: \"▸\";float: left;margin-right: 0.25em;color: #696969;}#sk-container-id-1 label.sk-toggleable__label-arrow:hover:before {color: black;}#sk-container-id-1 div.sk-estimator:hover label.sk-toggleable__label-arrow:before {color: black;}#sk-container-id-1 div.sk-toggleable__content {max-height: 0;max-width: 0;overflow: hidden;text-align: left;background-color: #f0f8ff;}#sk-container-id-1 div.sk-toggleable__content pre {margin: 0.2em;color: black;border-radius: 0.25em;background-color: #f0f8ff;}#sk-container-id-1 input.sk-toggleable__control:checked~div.sk-toggleable__content {max-height: 200px;max-width: 100%;overflow: auto;}#sk-container-id-1 input.sk-toggleable__control:checked~label.sk-toggleable__label-arrow:before {content: \"▾\";}#sk-container-id-1 div.sk-estimator input.sk-toggleable__control:checked~label.sk-toggleable__label {background-color: #d4ebff;}#sk-container-id-1 div.sk-label input.sk-toggleable__control:checked~label.sk-toggleable__label {background-color: #d4ebff;}#sk-container-id-1 input.sk-hidden--visually {border: 0;clip: rect(1px 1px 1px 1px);clip: rect(1px, 1px, 1px, 1px);height: 1px;margin: -1px;overflow: hidden;padding: 0;position: absolute;width: 1px;}#sk-container-id-1 div.sk-estimator {font-family: monospace;background-color: #f0f8ff;border: 1px dotted black;border-radius: 0.25em;box-sizing: border-box;margin-bottom: 0.5em;}#sk-container-id-1 div.sk-estimator:hover {background-color: #d4ebff;}#sk-container-id-1 div.sk-parallel-item::after {content: \"\";width: 100%;border-bottom: 1px solid gray;flex-grow: 1;}#sk-container-id-1 div.sk-label:hover label.sk-toggleable__label {background-color: #d4ebff;}#sk-container-id-1 div.sk-serial::before {content: \"\";position: absolute;border-left: 1px solid gray;box-sizing: border-box;top: 0;bottom: 0;left: 50%;z-index: 0;}#sk-container-id-1 div.sk-serial {display: flex;flex-direction: column;align-items: center;background-color: white;padding-right: 0.2em;padding-left: 0.2em;position: relative;}#sk-container-id-1 div.sk-item {position: relative;z-index: 1;}#sk-container-id-1 div.sk-parallel {display: flex;align-items: stretch;justify-content: center;background-color: white;position: relative;}#sk-container-id-1 div.sk-item::before, #sk-container-id-1 div.sk-parallel-item::before {content: \"\";position: absolute;border-left: 1px solid gray;box-sizing: border-box;top: 0;bottom: 0;left: 50%;z-index: -1;}#sk-container-id-1 div.sk-parallel-item {display: flex;flex-direction: column;z-index: 1;position: relative;background-color: white;}#sk-container-id-1 div.sk-parallel-item:first-child::after {align-self: flex-end;width: 50%;}#sk-container-id-1 div.sk-parallel-item:last-child::after {align-self: flex-start;width: 50%;}#sk-container-id-1 div.sk-parallel-item:only-child::after {width: 0;}#sk-container-id-1 div.sk-dashed-wrapped {border: 1px dashed gray;margin: 0 0.4em 0.5em 0.4em;box-sizing: border-box;padding-bottom: 0.4em;background-color: white;}#sk-container-id-1 div.sk-label label {font-family: monospace;font-weight: bold;display: inline-block;line-height: 1.2em;}#sk-container-id-1 div.sk-label-container {text-align: center;}#sk-container-id-1 div.sk-container {/* jupyter's `normalize.less` sets `[hidden] { display: none; }` but bootstrap.min.css set `[hidden] { display: none !important; }` so we also need the `!important` here to be able to override the default hidden behavior on the sphinx rendered scikit-learn.org. See: https://github.com/scikit-learn/scikit-learn/issues/21755 */display: inline-block !important;position: relative;}#sk-container-id-1 div.sk-text-repr-fallback {display: none;}</style><div id=\"sk-container-id-1\" class=\"sk-top-container\"><div class=\"sk-text-repr-fallback\"><pre>Pipeline(steps=[(&#x27;robustscaler&#x27;, RobustScaler()),\n",
       "                (&#x27;kelbowvisualizer&#x27;,\n",
       "                 KElbowVisualizer(ax=&lt;AxesSubplot:&gt;, estimator=KMeans(),\n",
       "                                  k=(2, 9)))])</pre><b>In a Jupyter environment, please rerun this cell to show the HTML representation or trust the notebook. <br />On GitHub, the HTML representation is unable to render, please try loading this page with nbviewer.org.</b></div><div class=\"sk-container\" hidden><div class=\"sk-item sk-dashed-wrapped\"><div class=\"sk-label-container\"><div class=\"sk-label sk-toggleable\"><input class=\"sk-toggleable__control sk-hidden--visually\" id=\"sk-estimator-id-1\" type=\"checkbox\" ><label for=\"sk-estimator-id-1\" class=\"sk-toggleable__label sk-toggleable__label-arrow\">Pipeline</label><div class=\"sk-toggleable__content\"><pre>Pipeline(steps=[(&#x27;robustscaler&#x27;, RobustScaler()),\n",
       "                (&#x27;kelbowvisualizer&#x27;,\n",
       "                 KElbowVisualizer(ax=&lt;AxesSubplot:&gt;, estimator=KMeans(),\n",
       "                                  k=(2, 9)))])</pre></div></div></div><div class=\"sk-serial\"><div class=\"sk-item\"><div class=\"sk-estimator sk-toggleable\"><input class=\"sk-toggleable__control sk-hidden--visually\" id=\"sk-estimator-id-2\" type=\"checkbox\" ><label for=\"sk-estimator-id-2\" class=\"sk-toggleable__label sk-toggleable__label-arrow\">RobustScaler</label><div class=\"sk-toggleable__content\"><pre>RobustScaler()</pre></div></div></div><div class=\"sk-item sk-dashed-wrapped\"><div class=\"sk-label-container\"><div class=\"sk-label sk-toggleable\"><input class=\"sk-toggleable__control sk-hidden--visually\" id=\"sk-estimator-id-3\" type=\"checkbox\" ><label for=\"sk-estimator-id-3\" class=\"sk-toggleable__label sk-toggleable__label-arrow\">kelbowvisualizer: KElbowVisualizer</label><div class=\"sk-toggleable__content\"><pre>KElbowVisualizer(ax=&lt;AxesSubplot:&gt;, estimator=KMeans(), k=(2, 9))</pre></div></div></div><div class=\"sk-parallel\"><div class=\"sk-parallel-item\"><div class=\"sk-item\"><div class=\"sk-label-container\"><div class=\"sk-label sk-toggleable\"><input class=\"sk-toggleable__control sk-hidden--visually\" id=\"sk-estimator-id-4\" type=\"checkbox\" ><label for=\"sk-estimator-id-4\" class=\"sk-toggleable__label sk-toggleable__label-arrow\">estimator: KMeans</label><div class=\"sk-toggleable__content\"><pre>KMeans()</pre></div></div></div><div class=\"sk-serial\"><div class=\"sk-item\"><div class=\"sk-estimator sk-toggleable\"><input class=\"sk-toggleable__control sk-hidden--visually\" id=\"sk-estimator-id-5\" type=\"checkbox\" ><label for=\"sk-estimator-id-5\" class=\"sk-toggleable__label sk-toggleable__label-arrow\">KMeans</label><div class=\"sk-toggleable__content\"><pre>KMeans()</pre></div></div></div></div></div></div></div></div></div></div></div></div>"
      ],
      "text/plain": [
       "Pipeline(steps=[('robustscaler', RobustScaler()),\n",
       "                ('kelbowvisualizer',\n",
       "                 KElbowVisualizer(ax=<AxesSubplot:>, estimator=KMeans(),\n",
       "                                  k=(2, 9)))])"
      ]
     },
     "execution_count": 3,
     "metadata": {},
     "output_type": "execute_result"
    },
    {
     "data": {
      "image/png": "[encoded data removed]",
      "text/plain": [
       "<Figure size 800x550 with 2 Axes>"
      ]
     },
     "metadata": {},
     "output_type": "display_data"
    }
   ],
   "source": [
    "# Kmeans on initial period\n",
    "# Clustering the baseline data\n",
    "\n",
    "warnings.filterwarnings('ignore')\n",
    "\n",
    "from yellowbrick.cluster import KElbowVisualizer\n",
    "visualizer = KElbowVisualizer(KMeans(), k=(2,9))\n",
    "kmeans_base = make_pipeline(RobustScaler(), visualizer)\n",
    "kmeans_base.fit(data_base)"
   ]
  },
  {
   "cell_type": "markdown",
   "id": "110a72d3",
   "metadata": {},
   "source": [
    "We find exactly the same number of clusters than with the full dataset: 4."
   ]
  },
  {
   "cell_type": "code",
   "execution_count": 4,
   "id": "0ff6b0eb",
   "metadata": {},
   "outputs": [],
   "source": [
    "# Launching the KMeans with the optimal K = 4 for base period\n",
    "optimal_K = visualizer.elbow_value_\n",
    "\n",
    "kmeans_base.named_steps['kelbowvisualizer'].show()\n",
    "\n",
    "kmeans_init = Pipeline([(\"preprocessor\", RobustScaler()),\n",
    "                        (\"kmeans\", KMeans(optimal_K))])\n",
    "kmeans_init.fit(data_base)\n",
    "init_labels = kmeans_init.named_steps['kmeans'].labels_"
   ]
  },
  {
   "cell_type": "markdown",
   "id": "aba7ae0f",
   "metadata": {},
   "source": [
    "Penultimate step, we now launch the clustering for all periods of time. We decided to go for an increment of 2 month at each period, which corresponds to having 7 splits: 12 months for the baseline already computed, then 14 months, 16, 18, 20, 22 and finally 24 months."
   ]
  },
  {
   "cell_type": "code",
   "execution_count": 5,
   "id": "970afc76",
   "metadata": {
    "scrolled": true
   },
   "outputs": [
    {
     "name": "stdout",
     "output_type": "stream",
     "text": [
      "mean_payment_sequential \t 1.0\n",
      "mean_payment_installments \t 1.0\n",
      "mean_review_score \t 5.0\n",
      "mean_delivery_days \t 7.0\n",
      "Feature engineering time to run: 13.07s\n",
      "mean_payment_sequential \t 1.0\n",
      "mean_payment_installments \t 1.0\n",
      "mean_review_score \t 5.0\n",
      "mean_delivery_days \t 8.0\n",
      "Feature engineering time to run: 17.61s\n",
      "mean_payment_sequential \t 1.0\n",
      "mean_payment_installments \t 1.0\n",
      "mean_review_score \t 5.0\n",
      "mean_delivery_days \t 8.0\n",
      "Feature engineering time to run: 22.50s\n",
      "mean_payment_sequential \t 1.0\n",
      "mean_payment_installments \t 1.0\n",
      "mean_review_score \t 5.0\n",
      "mean_delivery_days \t 7.0\n",
      "Feature engineering time to run: 27.13s\n",
      "mean_payment_sequential \t 1.0\n",
      "mean_payment_installments \t 1.0\n",
      "mean_review_score \t 5.0\n",
      "mean_delivery_days \t 7.0\n",
      "Feature engineering time to run: 31.56s\n",
      "mean_payment_sequential \t 1.0\n",
      "mean_payment_installments \t 1.0\n",
      "mean_review_score \t 5.0\n",
      "mean_delivery_days \t 7.0\n",
      "Feature engineering time to run: 34.96s\n"
     ]
    }
   ],
   "source": [
    "# Fitting the clusters for all slices\n",
    "ari_score = []\n",
    "\n",
    "for p in np.arange(2,13,2):\n",
    "    # Create dataset for period\n",
    "    data_period = functions.split_dataset(dpath=\"./Data/\", nb_months = p)\n",
    "\n",
    "    # Filter on initial clients\n",
    "    data_period = data_period[data_period.index.isin(data_base.index)]\n",
    "    \n",
    "    # K-Means\n",
    "    kmeans_p = Pipeline([(\"preprocessor\", RobustScaler()),\n",
    "                         (\"kmeans\", KMeans(optimal_K))])\n",
    "    kmeans_p.fit(data_period)\n",
    "    p_labels = kmeans_p.named_steps['kmeans'].labels_\n",
    "    \n",
    "    # Calculate ARI score\n",
    "    ari_p = adjusted_rand_score(init_labels, p_labels)\n",
    "    ari_score.append([p,ari_p])"
   ]
  },
  {
   "cell_type": "markdown",
   "id": "a3b6999b",
   "metadata": {},
   "source": [
    "Last step, now that we have all the clusterings (one for each period of time), we are going to compare the label (or group/cluster) assigned to each client at every period. It's a 1 on 1 comparison meaning that at each step, the Adjusted Rand Index compares two periods, as show below."
   ]
  },
  {
   "cell_type": "markdown",
   "id": "280732b9",
   "metadata": {},
   "source": [
    "1st comparison: Base period v.s. Period 2 (2 for 2 additional months)\n",
    "\n",
    "2nd comparison: Base period v.s. Period 4 (4 additional months)\n",
    "\n",
    "3rd comparison: Base period v.s. Period 6\n",
    "\n",
    "and so forth..."
   ]
  },
  {
   "cell_type": "code",
   "execution_count": 6,
   "id": "99e0ea6d",
   "metadata": {},
   "outputs": [
    {
     "data": {
      "text/html": [
       "<div>\n",
       "<style scoped>\n",
       "    .dataframe tbody tr th:only-of-type {\n",
       "        vertical-align: middle;\n",
       "    }\n",
       "\n",
       "    .dataframe tbody tr th {\n",
       "        vertical-align: top;\n",
       "    }\n",
       "\n",
       "    .dataframe thead th {\n",
       "        text-align: right;\n",
       "    }\n",
       "</style>\n",
       "<table border=\"1\" class=\"dataframe\">\n",
       "  <thead>\n",
       "    <tr style=\"text-align: right;\">\n",
       "      <th></th>\n",
       "      <th>Period</th>\n",
       "      <th>ARI</th>\n",
       "    </tr>\n",
       "  </thead>\n",
       "  <tbody>\n",
       "    <tr>\n",
       "      <th>0</th>\n",
       "      <td>2</td>\n",
       "      <td>0.997147</td>\n",
       "    </tr>\n",
       "    <tr>\n",
       "      <th>1</th>\n",
       "      <td>4</td>\n",
       "      <td>0.992507</td>\n",
       "    </tr>\n",
       "    <tr>\n",
       "      <th>2</th>\n",
       "      <td>6</td>\n",
       "      <td>0.989164</td>\n",
       "    </tr>\n",
       "    <tr>\n",
       "      <th>3</th>\n",
       "      <td>8</td>\n",
       "      <td>0.987215</td>\n",
       "    </tr>\n",
       "    <tr>\n",
       "      <th>4</th>\n",
       "      <td>10</td>\n",
       "      <td>0.981959</td>\n",
       "    </tr>\n",
       "    <tr>\n",
       "      <th>5</th>\n",
       "      <td>12</td>\n",
       "      <td>0.980034</td>\n",
       "    </tr>\n",
       "  </tbody>\n",
       "</table>\n",
       "</div>"
      ],
      "text/plain": [
       "   Period       ARI\n",
       "0       2  0.997147\n",
       "1       4  0.992507\n",
       "2       6  0.989164\n",
       "3       8  0.987215\n",
       "4      10  0.981959\n",
       "5      12  0.980034"
      ]
     },
     "execution_count": 6,
     "metadata": {},
     "output_type": "execute_result"
    }
   ],
   "source": [
    "ari_score = pd.DataFrame(ari_score, columns=[\"Period\", \"ARI\"])\n",
    "ari_score"
   ]
  },
  {
   "cell_type": "markdown",
   "id": "972cd9b8",
   "metadata": {},
   "source": [
    "The very high ARI scores (1 being the theoretical maximum) show that our clustering does not change much, even after a full year of observations. It can be explained by the very low amount of multiple orders by a single client. As a reminder, we have a total of 115000 orders, and 93000 distinct clients. \n",
    "\n",
    "For now, it's not necessary to update the clustering very often, but an increase in the frequency of orders would change this conclusion. I suggest to re-update the clustering in a year."
   ]
  },
  {
   "cell_type": "markdown",
   "id": "f0322972",
   "metadata": {},
   "source": [
    "### Other approach for computing the ARI scores"
   ]
  },
  {
   "cell_type": "markdown",
   "id": "b9a0ab16",
   "metadata": {},
   "source": [
    "Instead of computing the ARI-score the following way:\n",
    "<br>1 - Split the dataset in different interwined and growing periods of time (like russian dolls)\n",
    "<br>2 - Fit the clusters on the base period (12 months)\n",
    "<br>3 - Fit the clusters on all other period of time (14, 16, 18, 20, 22 and 24 months)\n",
    "<br>4 - At each period, filter the database to keep only the clients that are present in the base period\n",
    "<br>5 - Compute 6 ARI scores, comparing the base-period clustering to the other periods' clusterings (12-14, 12-16, 12-18 etc),\n",
    "\n",
    "\n",
    "We are going to compute it this way:\n",
    "<br>1 - Split the dataset in different interwined and growing periods of time (like russian dolls)\n",
    "<br>2 - Fit the clusters on the base period (12 months)\n",
    "<br>3 - At each period, filter the database to keep only the clients that are present in the base period\n",
    "<br>4.1 - Fit the clusters on all other period of time (14, 16, 18, 20, 22 and 24 months)\n",
    "<br>4.2 - Predict the clusters at each period using the model of the base period\n",
    "<br>5 - Compute 6 ARI scores, comparing the clustering obtained at step 4.1 against the one obtained at step 4.2\n"
   ]
  },
  {
   "cell_type": "code",
   "execution_count": 7,
   "id": "5edbc847",
   "metadata": {},
   "outputs": [
    {
     "name": "stdout",
     "output_type": "stream",
     "text": [
      "mean_payment_sequential \t 1.0\n",
      "mean_payment_installments \t 1.0\n",
      "mean_review_score \t 5.0\n",
      "mean_delivery_days \t 7.0\n",
      "Feature engineering time to run: 13.19s\n",
      "mean_payment_sequential \t 1.0\n",
      "mean_payment_installments \t 1.0\n",
      "mean_review_score \t 5.0\n",
      "mean_delivery_days \t 8.0\n",
      "Feature engineering time to run: 17.65s\n",
      "mean_payment_sequential \t 1.0\n",
      "mean_payment_installments \t 1.0\n",
      "mean_review_score \t 5.0\n",
      "mean_delivery_days \t 8.0\n",
      "Feature engineering time to run: 22.60s\n",
      "mean_payment_sequential \t 1.0\n",
      "mean_payment_installments \t 1.0\n",
      "mean_review_score \t 5.0\n",
      "mean_delivery_days \t 7.0\n",
      "Feature engineering time to run: 27.22s\n",
      "mean_payment_sequential \t 1.0\n",
      "mean_payment_installments \t 1.0\n",
      "mean_review_score \t 5.0\n",
      "mean_delivery_days \t 7.0\n",
      "Feature engineering time to run: 31.96s\n",
      "mean_payment_sequential \t 1.0\n",
      "mean_payment_installments \t 1.0\n",
      "mean_review_score \t 5.0\n",
      "mean_delivery_days \t 7.0\n",
      "Feature engineering time to run: 36.47s\n"
     ]
    }
   ],
   "source": [
    "# Predicting the clusters of all slices using the base_period model\n",
    "new_ari_score = []\n",
    "\n",
    "for p in np.arange(2,13,2):\n",
    "    # Create dataset for period\n",
    "    data_period = functions.split_dataset(dpath=\"./Data/\", nb_months = p)\n",
    "\n",
    "    # Filter on initial clients\n",
    "    data_period = data_period[data_period.index.isin(data_base.index)]\n",
    "    \n",
    "    # Initial K-Means \n",
    "    kmeans_init.predict(data_period)\n",
    "    new_p_labels = kmeans_init.named_steps['kmeans'].labels_\n",
    "    \n",
    "    # Calculate ARI score\n",
    "    new_ari_p = adjusted_rand_score(p_labels, new_p_labels)\n",
    "    new_ari_score.append([ari_p,new_ari_p])"
   ]
  },
  {
   "cell_type": "code",
   "execution_count": 9,
   "id": "77dbca09",
   "metadata": {},
   "outputs": [
    {
     "data": {
      "text/html": [
       "<div>\n",
       "<style scoped>\n",
       "    .dataframe tbody tr th:only-of-type {\n",
       "        vertical-align: middle;\n",
       "    }\n",
       "\n",
       "    .dataframe tbody tr th {\n",
       "        vertical-align: top;\n",
       "    }\n",
       "\n",
       "    .dataframe thead th {\n",
       "        text-align: right;\n",
       "    }\n",
       "</style>\n",
       "<table border=\"1\" class=\"dataframe\">\n",
       "  <thead>\n",
       "    <tr style=\"text-align: right;\">\n",
       "      <th></th>\n",
       "      <th>Period</th>\n",
       "      <th>ARI</th>\n",
       "    </tr>\n",
       "  </thead>\n",
       "  <tbody>\n",
       "    <tr>\n",
       "      <th>0</th>\n",
       "      <td>2</td>\n",
       "      <td>0.997147</td>\n",
       "    </tr>\n",
       "    <tr>\n",
       "      <th>1</th>\n",
       "      <td>4</td>\n",
       "      <td>0.992507</td>\n",
       "    </tr>\n",
       "    <tr>\n",
       "      <th>2</th>\n",
       "      <td>6</td>\n",
       "      <td>0.989164</td>\n",
       "    </tr>\n",
       "    <tr>\n",
       "      <th>3</th>\n",
       "      <td>8</td>\n",
       "      <td>0.987215</td>\n",
       "    </tr>\n",
       "    <tr>\n",
       "      <th>4</th>\n",
       "      <td>10</td>\n",
       "      <td>0.981959</td>\n",
       "    </tr>\n",
       "    <tr>\n",
       "      <th>5</th>\n",
       "      <td>12</td>\n",
       "      <td>0.980034</td>\n",
       "    </tr>\n",
       "  </tbody>\n",
       "</table>\n",
       "</div>"
      ],
      "text/plain": [
       "   Period       ARI\n",
       "0       2  0.997147\n",
       "1       4  0.992507\n",
       "2       6  0.989164\n",
       "3       8  0.987215\n",
       "4      10  0.981959\n",
       "5      12  0.980034"
      ]
     },
     "execution_count": 9,
     "metadata": {},
     "output_type": "execute_result"
    }
   ],
   "source": [
    "new_ari_score = pd.DataFrame(new_ari_score, columns=[\"Period\", \"ARI\"])\n",
    "new_ari_score"
   ]
  },
  {
   "cell_type": "markdown",
   "id": "ba577a98",
   "metadata": {},
   "source": [
    "#### Comparison of both methods"
   ]
  },
  {
   "cell_type": "code",
   "execution_count": 18,
   "id": "51d79b6a",
   "metadata": {},
   "outputs": [
    {
     "data": {
      "text/html": [
       "<div>\n",
       "<style scoped>\n",
       "    .dataframe tbody tr th:only-of-type {\n",
       "        vertical-align: middle;\n",
       "    }\n",
       "\n",
       "    .dataframe tbody tr th {\n",
       "        vertical-align: top;\n",
       "    }\n",
       "\n",
       "    .dataframe thead th {\n",
       "        text-align: right;\n",
       "    }\n",
       "</style>\n",
       "<table border=\"1\" class=\"dataframe\">\n",
       "  <thead>\n",
       "    <tr style=\"text-align: right;\">\n",
       "      <th></th>\n",
       "      <th>Period</th>\n",
       "      <th>ARI</th>\n",
       "      <th>Period</th>\n",
       "      <th>ARI</th>\n",
       "    </tr>\n",
       "  </thead>\n",
       "  <tbody>\n",
       "    <tr>\n",
       "      <th>0</th>\n",
       "      <td>2</td>\n",
       "      <td>0.997147</td>\n",
       "      <td>2</td>\n",
       "      <td>0.997147</td>\n",
       "    </tr>\n",
       "    <tr>\n",
       "      <th>1</th>\n",
       "      <td>4</td>\n",
       "      <td>0.992507</td>\n",
       "      <td>4</td>\n",
       "      <td>0.992507</td>\n",
       "    </tr>\n",
       "    <tr>\n",
       "      <th>2</th>\n",
       "      <td>6</td>\n",
       "      <td>0.989164</td>\n",
       "      <td>6</td>\n",
       "      <td>0.989164</td>\n",
       "    </tr>\n",
       "    <tr>\n",
       "      <th>3</th>\n",
       "      <td>8</td>\n",
       "      <td>0.987215</td>\n",
       "      <td>8</td>\n",
       "      <td>0.987215</td>\n",
       "    </tr>\n",
       "    <tr>\n",
       "      <th>4</th>\n",
       "      <td>10</td>\n",
       "      <td>0.981959</td>\n",
       "      <td>10</td>\n",
       "      <td>0.981959</td>\n",
       "    </tr>\n",
       "    <tr>\n",
       "      <th>5</th>\n",
       "      <td>12</td>\n",
       "      <td>0.980034</td>\n",
       "      <td>12</td>\n",
       "      <td>0.980034</td>\n",
       "    </tr>\n",
       "  </tbody>\n",
       "</table>\n",
       "</div>"
      ],
      "text/plain": [
       "   Period       ARI  Period       ARI\n",
       "0       2  0.997147       2  0.997147\n",
       "1       4  0.992507       4  0.992507\n",
       "2       6  0.989164       6  0.989164\n",
       "3       8  0.987215       8  0.987215\n",
       "4      10  0.981959      10  0.981959\n",
       "5      12  0.980034      12  0.980034"
      ]
     },
     "execution_count": 18,
     "metadata": {},
     "output_type": "execute_result"
    }
   ],
   "source": [
    "ari_comp = pd.concat([ari_score, new_ari_score], axis = 1)\n",
    "ari_comp"
   ]
  },
  {
   "cell_type": "markdown",
   "id": "22eb3b19",
   "metadata": {},
   "source": [
    "The result is exactly the same.\n"
   ]
  },
  {
   "cell_type": "code",
   "execution_count": null,
   "id": "4a1a5a0c",
   "metadata": {},
   "outputs": [],
   "source": []
  }
 ],
 "metadata": {
  "kernelspec": {
   "display_name": "Python 3 (ipykernel)",
   "language": "python",
   "name": "python3"
  },
  "language_info": {
   "codemirror_mode": {
    "name": "ipython",
    "version": 3
   },
   "file_extension": ".py",
   "mimetype": "text/x-python",
   "name": "python",
   "nbconvert_exporter": "python",
   "pygments_lexer": "ipython3",
   "version": "3.9.13"
  }
 },
 "nbformat": 4,
 "nbformat_minor": 5
}
